{
  "nbformat": 4,
  "nbformat_minor": 0,
  "metadata": {
    "colab": {
      "provenance": [],
      "authorship_tag": "ABX9TyMvyL1Wsm88HeFnIymU8mUR",
      "include_colab_link": true
    },
    "kernelspec": {
      "name": "python3",
      "display_name": "Python 3"
    },
    "language_info": {
      "name": "python"
    }
  },
  "cells": [
    {
      "cell_type": "markdown",
      "metadata": {
        "id": "view-in-github",
        "colab_type": "text"
      },
      "source": [
        "<a href=\"https://colab.research.google.com/github/NAGAJYOTHIKOTHAMANDI/main/blob/main/Untitled9.ipynb\" target=\"_parent\"><img src=\"https://colab.research.google.com/assets/colab-badge.svg\" alt=\"Open In Colab\"/></a>"
      ]
    },
    {
      "cell_type": "code",
      "execution_count": 2,
      "metadata": {
        "colab": {
          "base_uri": "https://localhost:8080/",
          "height": 827
        },
        "id": "I-r5W1zOrjmw",
        "outputId": "3dc226e3-08cf-47e6-c9b1-2366d3709199"
      },
      "outputs": [
        {
          "output_type": "stream",
          "name": "stdout",
          "text": [
            "Epoch 1/10\n",
            "469/469 [==============================] - 69s 144ms/step - loss: 0.2554 - accuracy: 0.9216 - val_loss: 0.0796 - val_accuracy: 0.9721\n",
            "Epoch 2/10\n",
            "469/469 [==============================] - 58s 124ms/step - loss: 0.0603 - accuracy: 0.9811 - val_loss: 0.0473 - val_accuracy: 0.9842\n",
            "Epoch 3/10\n",
            "469/469 [==============================] - 64s 138ms/step - loss: 0.0406 - accuracy: 0.9872 - val_loss: 0.0414 - val_accuracy: 0.9881\n",
            "Epoch 4/10\n",
            "469/469 [==============================] - 59s 126ms/step - loss: 0.0324 - accuracy: 0.9897 - val_loss: 0.0368 - val_accuracy: 0.9868\n",
            "Epoch 5/10\n",
            "469/469 [==============================] - 59s 126ms/step - loss: 0.0266 - accuracy: 0.9913 - val_loss: 0.0332 - val_accuracy: 0.9892\n",
            "Epoch 6/10\n",
            "469/469 [==============================] - 59s 127ms/step - loss: 0.0231 - accuracy: 0.9926 - val_loss: 0.0288 - val_accuracy: 0.9904\n",
            "Epoch 7/10\n",
            "469/469 [==============================] - 58s 125ms/step - loss: 0.0186 - accuracy: 0.9940 - val_loss: 0.0330 - val_accuracy: 0.9900\n",
            "Epoch 8/10\n",
            "469/469 [==============================] - 58s 124ms/step - loss: 0.0153 - accuracy: 0.9950 - val_loss: 0.0278 - val_accuracy: 0.9912\n",
            "Epoch 9/10\n",
            "469/469 [==============================] - 57s 120ms/step - loss: 0.0136 - accuracy: 0.9954 - val_loss: 0.0404 - val_accuracy: 0.9877\n",
            "Epoch 10/10\n",
            "469/469 [==============================] - 57s 121ms/step - loss: 0.0127 - accuracy: 0.9957 - val_loss: 0.0289 - val_accuracy: 0.9917\n",
            "313/313 [==============================] - 4s 13ms/step - loss: 0.0289 - accuracy: 0.9917\n",
            "Test Loss: 0.02893368899822235\n",
            "Test Accuracy: 0.9916999936103821\n",
            "1/1 [==============================] - 0s 128ms/step\n"
          ]
        },
        {
          "output_type": "display_data",
          "data": {
            "text/plain": [
              "<Figure size 1000x400 with 10 Axes>"
            ],
            "image/png": "[encoded data removed]"
          },
          "metadata": {}
        }
      ],
      "source": [
        "import numpy as np\n",
        "import matplotlib.pyplot as plt\n",
        "from tensorflow.keras.datasets import mnist\n",
        "from tensorflow.keras.models import Sequential\n",
        "from tensorflow.keras.layers import Conv2D, MaxPooling2D, Flatten, Dense\n",
        "from tensorflow.keras.utils import to_categorical\n",
        "\n",
        "# Load the MNIST dataset\n",
        "(X_train, y_train), (X_test, y_test) = mnist.load_data()\n",
        "\n",
        "# Preprocess the data\n",
        "X_train = X_train.reshape(-1, 28, 28, 1).astype('float32') / 255.0\n",
        "X_test = X_test.reshape(-1, 28, 28, 1).astype('float32') / 255.0\n",
        "y_train = to_categorical(y_train)\n",
        "y_test = to_categorical(y_test)\n",
        "\n",
        "# Build the CNN model\n",
        "model = Sequential()\n",
        "model.add(Conv2D(32, (3, 3), activation='relu', input_shape=(28, 28, 1)))\n",
        "model.add(MaxPooling2D((2, 2)))\n",
        "model.add(Conv2D(64, (3, 3), activation='relu'))\n",
        "model.add(MaxPooling2D((2, 2)))\n",
        "model.add(Conv2D(64, (3, 3), activation='relu'))\n",
        "model.add(Flatten())\n",
        "model.add(Dense(64, activation='relu'))\n",
        "model.add(Dense(10, activation='softmax'))\n",
        "\n",
        "# Compile and train the model\n",
        "model.compile(optimizer='adam', loss='categorical_crossentropy', metrics=['accuracy'])\n",
        "model.fit(X_train, y_train, epochs=10, batch_size=128, validation_data=(X_test, y_test))\n",
        "\n",
        "# Evaluate the model\n",
        "test_loss, test_acc = model.evaluate(X_test, y_test)\n",
        "print('Test Loss:', test_loss)\n",
        "print('Test Accuracy:', test_acc)\n",
        "\n",
        "# Make predictions on new images\n",
        "predictions = model.predict(X_test[:10])\n",
        "predicted_labels = np.argmax(predictions, axis=1)\n",
        "\n",
        "# Visualize the predictions\n",
        "fig, axes = plt.subplots(2, 5, figsize=(10, 4))\n",
        "axes = axes.flatten()\n",
        "for i, ax in enumerate(axes):\n",
        "    ax.imshow(X_test[i].reshape(28, 28), cmap='gray')\n",
        "    ax.set_title('Predicted: {}'.format(predicted_labels[i]))\n",
        "    ax.axis('off')\n",
        "plt.tight_layout()\n",
        "plt.show()\n"
      ]
    }
  ]
}